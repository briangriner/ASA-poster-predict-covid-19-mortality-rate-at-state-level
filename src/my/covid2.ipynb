{
 "cells": [
  {
   "cell_type": "code",
   "execution_count": 1,
   "metadata": {},
   "outputs": [],
   "source": [
    "import numpy as np\n",
    "import pandas as pd\n",
    "import warnings\n",
    "warnings.filterwarnings('ignore')"
   ]
  },
  {
   "cell_type": "code",
   "execution_count": 2,
   "metadata": {},
   "outputs": [],
   "source": [
    "import sklearn"
   ]
  },
  {
   "cell_type": "code",
   "execution_count": 3,
   "metadata": {},
   "outputs": [],
   "source": [
    "data = pd.read_csv('a.csv')"
   ]
  },
  {
   "cell_type": "code",
   "execution_count": 4,
   "metadata": {},
   "outputs": [
    {
     "data": {
      "text/html": [
       "<div>\n",
       "<style scoped>\n",
       "    .dataframe tbody tr th:only-of-type {\n",
       "        vertical-align: middle;\n",
       "    }\n",
       "\n",
       "    .dataframe tbody tr th {\n",
       "        vertical-align: top;\n",
       "    }\n",
       "\n",
       "    .dataframe thead th {\n",
       "        text-align: right;\n",
       "    }\n",
       "</style>\n",
       "<table border=\"1\" class=\"dataframe\">\n",
       "  <thead>\n",
       "    <tr style=\"text-align: right;\">\n",
       "      <th></th>\n",
       "      <th>state</th>\n",
       "      <th>Locationdesc</th>\n",
       "      <th>country_region</th>\n",
       "      <th>last_update</th>\n",
       "      <th>lat</th>\n",
       "      <th>long</th>\n",
       "      <th>confirmed</th>\n",
       "      <th>deaths</th>\n",
       "      <th>recovered</th>\n",
       "      <th>active</th>\n",
       "      <th>...</th>\n",
       "      <th>percent_american_indian_alaska_native</th>\n",
       "      <th>percent_asian</th>\n",
       "      <th>percent_native_hawaiian_other_pacific_islander</th>\n",
       "      <th>percent_hispanic</th>\n",
       "      <th>percent_non_hispanic_white</th>\n",
       "      <th>percent_not_proficient_in_english</th>\n",
       "      <th>percent_female</th>\n",
       "      <th>percent_rural</th>\n",
       "      <th>hospital_bed_occupancy_rate</th>\n",
       "      <th>icu_bed_occupancy_rate</th>\n",
       "    </tr>\n",
       "  </thead>\n",
       "  <tbody>\n",
       "    <tr>\n",
       "      <th>0</th>\n",
       "      <td>KY</td>\n",
       "      <td>Kentucky</td>\n",
       "      <td>US</td>\n",
       "      <td>4/13/20 13:14</td>\n",
       "      <td>37.6681</td>\n",
       "      <td>-84.6701</td>\n",
       "      <td>2018</td>\n",
       "      <td>113</td>\n",
       "      <td>607.0</td>\n",
       "      <td>1905</td>\n",
       "      <td>...</td>\n",
       "      <td>0.300152</td>\n",
       "      <td>1.629352</td>\n",
       "      <td>0.090815</td>\n",
       "      <td>3.847751</td>\n",
       "      <td>84.288141</td>\n",
       "      <td>1.024374</td>\n",
       "      <td>50.731581</td>\n",
       "      <td>41.619527</td>\n",
       "      <td>0.60</td>\n",
       "      <td>0.65</td>\n",
       "    </tr>\n",
       "    <tr>\n",
       "      <th>1</th>\n",
       "      <td>OH</td>\n",
       "      <td>Ohio</td>\n",
       "      <td>US</td>\n",
       "      <td>4/13/20 13:14</td>\n",
       "      <td>40.3888</td>\n",
       "      <td>-82.7649</td>\n",
       "      <td>6604</td>\n",
       "      <td>253</td>\n",
       "      <td>NaN</td>\n",
       "      <td>6351</td>\n",
       "      <td>...</td>\n",
       "      <td>0.287148</td>\n",
       "      <td>2.457106</td>\n",
       "      <td>0.059832</td>\n",
       "      <td>3.942678</td>\n",
       "      <td>78.669127</td>\n",
       "      <td>1.038759</td>\n",
       "      <td>50.975265</td>\n",
       "      <td>22.076099</td>\n",
       "      <td>0.59</td>\n",
       "      <td>0.64</td>\n",
       "    </tr>\n",
       "    <tr>\n",
       "      <th>2</th>\n",
       "      <td>WI</td>\n",
       "      <td>Wisconsin</td>\n",
       "      <td>US</td>\n",
       "      <td>4/13/20 13:14</td>\n",
       "      <td>44.2685</td>\n",
       "      <td>-89.6165</td>\n",
       "      <td>3341</td>\n",
       "      <td>144</td>\n",
       "      <td>NaN</td>\n",
       "      <td>3197</td>\n",
       "      <td>...</td>\n",
       "      <td>1.162298</td>\n",
       "      <td>3.029929</td>\n",
       "      <td>0.055783</td>\n",
       "      <td>6.948487</td>\n",
       "      <td>81.067152</td>\n",
       "      <td>1.418583</td>\n",
       "      <td>50.249606</td>\n",
       "      <td>29.846179</td>\n",
       "      <td>0.58</td>\n",
       "      <td>0.55</td>\n",
       "    </tr>\n",
       "    <tr>\n",
       "      <th>3</th>\n",
       "      <td>OR</td>\n",
       "      <td>Oregon</td>\n",
       "      <td>US</td>\n",
       "      <td>4/13/20 13:14</td>\n",
       "      <td>44.5720</td>\n",
       "      <td>-122.0709</td>\n",
       "      <td>1527</td>\n",
       "      <td>52</td>\n",
       "      <td>NaN</td>\n",
       "      <td>1475</td>\n",
       "      <td>...</td>\n",
       "      <td>1.814083</td>\n",
       "      <td>4.829584</td>\n",
       "      <td>0.453360</td>\n",
       "      <td>13.276882</td>\n",
       "      <td>75.292104</td>\n",
       "      <td>2.985884</td>\n",
       "      <td>50.426240</td>\n",
       "      <td>18.968362</td>\n",
       "      <td>0.63</td>\n",
       "      <td>0.60</td>\n",
       "    </tr>\n",
       "    <tr>\n",
       "      <th>4</th>\n",
       "      <td>MO</td>\n",
       "      <td>Missouri</td>\n",
       "      <td>US</td>\n",
       "      <td>4/13/20 13:14</td>\n",
       "      <td>38.4561</td>\n",
       "      <td>-92.2884</td>\n",
       "      <td>4272</td>\n",
       "      <td>118</td>\n",
       "      <td>NaN</td>\n",
       "      <td>4154</td>\n",
       "      <td>...</td>\n",
       "      <td>0.571603</td>\n",
       "      <td>2.139019</td>\n",
       "      <td>0.156453</td>\n",
       "      <td>4.297185</td>\n",
       "      <td>79.300417</td>\n",
       "      <td>0.972306</td>\n",
       "      <td>50.908568</td>\n",
       "      <td>29.563827</td>\n",
       "      <td>0.60</td>\n",
       "      <td>0.58</td>\n",
       "    </tr>\n",
       "  </tbody>\n",
       "</table>\n",
       "<p>5 rows × 258 columns</p>\n",
       "</div>"
      ],
      "text/plain": [
       "  state Locationdesc country_region    last_update      lat      long  \\\n",
       "0    KY     Kentucky             US  4/13/20 13:14  37.6681  -84.6701   \n",
       "1    OH         Ohio             US  4/13/20 13:14  40.3888  -82.7649   \n",
       "2    WI    Wisconsin             US  4/13/20 13:14  44.2685  -89.6165   \n",
       "3    OR       Oregon             US  4/13/20 13:14  44.5720 -122.0709   \n",
       "4    MO     Missouri             US  4/13/20 13:14  38.4561  -92.2884   \n",
       "\n",
       "   confirmed  deaths  recovered  active           ...            \\\n",
       "0       2018     113      607.0    1905           ...             \n",
       "1       6604     253        NaN    6351           ...             \n",
       "2       3341     144        NaN    3197           ...             \n",
       "3       1527      52        NaN    1475           ...             \n",
       "4       4272     118        NaN    4154           ...             \n",
       "\n",
       "   percent_american_indian_alaska_native  percent_asian  \\\n",
       "0                               0.300152       1.629352   \n",
       "1                               0.287148       2.457106   \n",
       "2                               1.162298       3.029929   \n",
       "3                               1.814083       4.829584   \n",
       "4                               0.571603       2.139019   \n",
       "\n",
       "   percent_native_hawaiian_other_pacific_islander  percent_hispanic  \\\n",
       "0                                        0.090815          3.847751   \n",
       "1                                        0.059832          3.942678   \n",
       "2                                        0.055783          6.948487   \n",
       "3                                        0.453360         13.276882   \n",
       "4                                        0.156453          4.297185   \n",
       "\n",
       "   percent_non_hispanic_white  percent_not_proficient_in_english  \\\n",
       "0                   84.288141                           1.024374   \n",
       "1                   78.669127                           1.038759   \n",
       "2                   81.067152                           1.418583   \n",
       "3                   75.292104                           2.985884   \n",
       "4                   79.300417                           0.972306   \n",
       "\n",
       "   percent_female  percent_rural  hospital_bed_occupancy_rate  \\\n",
       "0       50.731581      41.619527                         0.60   \n",
       "1       50.975265      22.076099                         0.59   \n",
       "2       50.249606      29.846179                         0.58   \n",
       "3       50.426240      18.968362                         0.63   \n",
       "4       50.908568      29.563827                         0.60   \n",
       "\n",
       "   icu_bed_occupancy_rate  \n",
       "0                    0.65  \n",
       "1                    0.64  \n",
       "2                    0.55  \n",
       "3                    0.60  \n",
       "4                    0.58  \n",
       "\n",
       "[5 rows x 258 columns]"
      ]
     },
     "execution_count": 4,
     "metadata": {},
     "output_type": "execute_result"
    }
   ],
   "source": [
    "data.head()"
   ]
  },
  {
   "cell_type": "code",
   "execution_count": 5,
   "metadata": {},
   "outputs": [
    {
     "name": "stdout",
     "output_type": "stream",
     "text": [
      "deaths                                  0.312537\n",
      "recovered                               0.311262\n",
      "incident_rate                           0.316695\n",
      "mortality_rate                          1.000000\n",
      "hospitalization_rate                    0.497373\n",
      "CLASS04_TOPIC08__FOBTFS_RESP209_BO1     0.449853\n",
      "CLASS05_TOPIC02_AGE_RESP013_BO1         0.390366\n",
      "CLASS05_TOPIC61_VETERAN3_RESP046_BO1    0.369961\n",
      "CLASS05_TOPIC61_VETERAN3_RESP054_BO1    0.369961\n",
      "suicide_rate_age_adjusted               0.325317\n",
      "crude_rate                              0.302356\n",
      "Name: mortality_rate, dtype: float64\n"
     ]
    }
   ],
   "source": [
    "cor = data.corr()\n",
    "cor = abs(cor['mortality_rate'])\n",
    "print(cor[cor > 0.3])"
   ]
  },
  {
   "cell_type": "code",
   "execution_count": 6,
   "metadata": {},
   "outputs": [],
   "source": [
    "data.drop([33, 47], inplace=True) # Get rid of Guam/Puerto Rico\n",
    "y = data['mortality_rate'] # Labels\n",
    "states = data['state'] # If we want to look a state up later\n",
    "data.drop(columns=['mortality_rate', 'Locationdesc', 'country_region', 'last_update', 'lat', 'long', 'confirmed', 'deaths',\n",
    "                  'recovered', 'active', 'people_tested', 'people_hospitalized', 'testing_rate', 'incident_rate', 'hospitalization_rate',\n",
    "                  'state'], inplace=True)\n",
    "data.fillna(data.mean(), inplace=True)\n"
   ]
  },
  {
   "cell_type": "code",
   "execution_count": 7,
   "metadata": {},
   "outputs": [],
   "source": [
    "from sklearn.model_selection import train_test_split\n",
    "from sklearn.preprocessing import StandardScaler\n",
    "\n",
    "scaled = StandardScaler().fit_transform(data)\n",
    "X = pd.DataFrame(scaled, columns=data.columns)"
   ]
  },
  {
   "cell_type": "code",
   "execution_count": 8,
   "metadata": {},
   "outputs": [],
   "source": [
    "from sklearn.linear_model import LassoCV\n",
    "from sklearn.linear_model import Ridge\n",
    "from sklearn.metrics import mean_squared_error\n",
    "from sklearn.neighbors import KNeighborsRegressor\n",
    "from sklearn.model_selection import cross_val_score\n",
    "from sklearn.model_selection import GridSearchCV\n",
    "from sklearn.ensemble import GradientBoostingRegressor\n",
    "from sklearn.tree import DecisionTreeRegressor\n",
    "from sklearn.ensemble import RandomForestRegressor\n",
    "from sklearn.neural_network import MLPRegressor\n",
    "from sklearn.svm import LinearSVR\n",
    "from sklearn.metrics import make_scorer\n",
    "\n",
    "def evaluate_model(model, param_dict, passes=10):\n",
    "    min_test_err = 1e10\n",
    "    best_hyperparams = {}\n",
    "    corr_full_err = None\n",
    "    scorer = make_scorer(mean_squared_error, greater_is_better=False)\n",
    "    for i in range(passes):\n",
    "        print('Pass {}/10 for model {}'.format(i + 1, model))\n",
    "        X_train, X_test, y_train, y_test = train_test_split(data, y, test_size=0.2)\n",
    "        \n",
    "        default_model = model()\n",
    "        model_gs = GridSearchCV(default_model, param_dict, cv=3, n_jobs=16, verbose=1, scoring=scorer)\n",
    "        model_gs.fit(X_train, y_train)\n",
    "        optimal_model = model(**model_gs.best_params_)\n",
    "        optimal_model.fit(X_train, y_train)\n",
    "        y_pred = optimal_model.predict(X_test)\n",
    "        err = mean_squared_error(y_test, y_pred)\n",
    "        \n",
    "        full_y_pred=optimal_model.predict(data)\n",
    "        full_err = mean_squared_error(full_y_pred, y)\n",
    "        #print('MSE for {}: {}'.format(model, err))\n",
    "        if err < min_test_err:\n",
    "            min_test_err = err\n",
    "            best_hyperparams = model_gs.best_params_\n",
    "            corr_full_err = full_err\n",
    "    print('Model {} with hyperparams {} yielded test error {} - overall error {}'.format(model, best_hyperparams, min_test_err, corr_full_err))\n",
    "   "
   ]
  },
  {
   "cell_type": "code",
   "execution_count": 93,
   "metadata": {
    "scrolled": false
   },
   "outputs": [
    {
     "name": "stdout",
     "output_type": "stream",
     "text": [
      "Pass 1/10 for model <class 'sklearn.linear_model.coordinate_descent.LassoCV'>\n",
      "Fitting 3 folds for each of 54 candidates, totalling 162 fits\n"
     ]
    },
    {
     "name": "stderr",
     "output_type": "stream",
     "text": [
      "[Parallel(n_jobs=16)]: Done  18 tasks      | elapsed:    9.7s\n",
      "[Parallel(n_jobs=16)]: Done 162 out of 162 | elapsed:   58.2s finished\n"
     ]
    },
    {
     "name": "stdout",
     "output_type": "stream",
     "text": [
      "Pass 2/10 for model <class 'sklearn.linear_model.coordinate_descent.LassoCV'>\n",
      "Fitting 3 folds for each of 54 candidates, totalling 162 fits\n"
     ]
    },
    {
     "name": "stderr",
     "output_type": "stream",
     "text": [
      "[Parallel(n_jobs=16)]: Done  18 tasks      | elapsed:    3.3s\n",
      "[Parallel(n_jobs=16)]: Done 162 out of 162 | elapsed:   16.5s finished\n"
     ]
    },
    {
     "name": "stdout",
     "output_type": "stream",
     "text": [
      "Pass 3/10 for model <class 'sklearn.linear_model.coordinate_descent.LassoCV'>\n",
      "Fitting 3 folds for each of 54 candidates, totalling 162 fits\n"
     ]
    },
    {
     "name": "stderr",
     "output_type": "stream",
     "text": [
      "[Parallel(n_jobs=16)]: Done  18 tasks      | elapsed:    5.7s\n",
      "[Parallel(n_jobs=16)]: Done 162 out of 162 | elapsed:   30.3s finished\n"
     ]
    },
    {
     "name": "stdout",
     "output_type": "stream",
     "text": [
      "Pass 4/10 for model <class 'sklearn.linear_model.coordinate_descent.LassoCV'>\n",
      "Fitting 3 folds for each of 54 candidates, totalling 162 fits\n"
     ]
    },
    {
     "name": "stderr",
     "output_type": "stream",
     "text": [
      "[Parallel(n_jobs=16)]: Done  18 tasks      | elapsed:    4.4s\n",
      "[Parallel(n_jobs=16)]: Done 162 out of 162 | elapsed:   26.7s finished\n"
     ]
    },
    {
     "name": "stdout",
     "output_type": "stream",
     "text": [
      "Pass 5/10 for model <class 'sklearn.linear_model.coordinate_descent.LassoCV'>\n",
      "Fitting 3 folds for each of 54 candidates, totalling 162 fits\n"
     ]
    },
    {
     "name": "stderr",
     "output_type": "stream",
     "text": [
      "[Parallel(n_jobs=16)]: Done  18 tasks      | elapsed:    9.2s\n",
      "[Parallel(n_jobs=16)]: Done 162 out of 162 | elapsed:   52.7s finished\n"
     ]
    },
    {
     "name": "stdout",
     "output_type": "stream",
     "text": [
      "Pass 6/10 for model <class 'sklearn.linear_model.coordinate_descent.LassoCV'>\n",
      "Fitting 3 folds for each of 54 candidates, totalling 162 fits\n"
     ]
    },
    {
     "name": "stderr",
     "output_type": "stream",
     "text": [
      "[Parallel(n_jobs=16)]: Done  18 tasks      | elapsed:    2.5s\n",
      "[Parallel(n_jobs=16)]: Done 162 out of 162 | elapsed:   13.5s finished\n"
     ]
    },
    {
     "name": "stdout",
     "output_type": "stream",
     "text": [
      "Pass 7/10 for model <class 'sklearn.linear_model.coordinate_descent.LassoCV'>\n",
      "Fitting 3 folds for each of 54 candidates, totalling 162 fits\n"
     ]
    },
    {
     "name": "stderr",
     "output_type": "stream",
     "text": [
      "[Parallel(n_jobs=16)]: Done  18 tasks      | elapsed:    9.2s\n",
      "[Parallel(n_jobs=16)]: Done 162 out of 162 | elapsed:   42.2s finished\n"
     ]
    },
    {
     "name": "stdout",
     "output_type": "stream",
     "text": [
      "Pass 8/10 for model <class 'sklearn.linear_model.coordinate_descent.LassoCV'>\n",
      "Fitting 3 folds for each of 54 candidates, totalling 162 fits\n"
     ]
    },
    {
     "name": "stderr",
     "output_type": "stream",
     "text": [
      "[Parallel(n_jobs=16)]: Done  18 tasks      | elapsed:    4.1s\n",
      "[Parallel(n_jobs=16)]: Done 162 out of 162 | elapsed:   25.2s finished\n"
     ]
    },
    {
     "name": "stdout",
     "output_type": "stream",
     "text": [
      "Pass 9/10 for model <class 'sklearn.linear_model.coordinate_descent.LassoCV'>\n",
      "Fitting 3 folds for each of 54 candidates, totalling 162 fits\n"
     ]
    },
    {
     "name": "stderr",
     "output_type": "stream",
     "text": [
      "[Parallel(n_jobs=16)]: Done  18 tasks      | elapsed:    5.3s\n",
      "[Parallel(n_jobs=16)]: Done 162 out of 162 | elapsed:   31.7s finished\n"
     ]
    },
    {
     "name": "stdout",
     "output_type": "stream",
     "text": [
      "Pass 10/10 for model <class 'sklearn.linear_model.coordinate_descent.LassoCV'>\n",
      "Fitting 3 folds for each of 54 candidates, totalling 162 fits\n"
     ]
    },
    {
     "name": "stderr",
     "output_type": "stream",
     "text": [
      "[Parallel(n_jobs=16)]: Done  18 tasks      | elapsed:    4.9s\n",
      "[Parallel(n_jobs=16)]: Done 162 out of 162 | elapsed:   30.6s finished\n"
     ]
    },
    {
     "name": "stdout",
     "output_type": "stream",
     "text": [
      "Model <class 'sklearn.linear_model.coordinate_descent.LassoCV'> with hyperparams {'eps': 0.003, 'max_iter': 4000, 'n_alphas': 600, 'tol': 0.001} yielded test error 0.656226228958609 - overall error 1.5179652135494348\n",
      "Pass 1/10 for model <class 'sklearn.neighbors.regression.KNeighborsRegressor'>\n",
      "Fitting 3 folds for each of 9 candidates, totalling 27 fits\n",
      "Pass 2/10 for model <class 'sklearn.neighbors.regression.KNeighborsRegressor'>\n",
      "Fitting 3 folds for each of 9 candidates, totalling 27 fits\n"
     ]
    },
    {
     "name": "stderr",
     "output_type": "stream",
     "text": [
      "[Parallel(n_jobs=16)]: Done  24 out of  27 | elapsed:    0.1s remaining:    0.0s\n",
      "[Parallel(n_jobs=16)]: Done  27 out of  27 | elapsed:    0.1s finished\n"
     ]
    },
    {
     "name": "stdout",
     "output_type": "stream",
     "text": [
      "Pass 3/10 for model <class 'sklearn.neighbors.regression.KNeighborsRegressor'>\n",
      "Fitting 3 folds for each of 9 candidates, totalling 27 fits\n"
     ]
    },
    {
     "name": "stderr",
     "output_type": "stream",
     "text": [
      "[Parallel(n_jobs=16)]: Done  24 out of  27 | elapsed:    0.1s remaining:    0.0s\n",
      "[Parallel(n_jobs=16)]: Done  27 out of  27 | elapsed:    0.1s finished\n"
     ]
    },
    {
     "name": "stdout",
     "output_type": "stream",
     "text": [
      "Pass 4/10 for model <class 'sklearn.neighbors.regression.KNeighborsRegressor'>\n",
      "Fitting 3 folds for each of 9 candidates, totalling 27 fits\n"
     ]
    },
    {
     "name": "stderr",
     "output_type": "stream",
     "text": [
      "[Parallel(n_jobs=16)]: Done  24 out of  27 | elapsed:    0.1s remaining:    0.0s\n",
      "[Parallel(n_jobs=16)]: Done  27 out of  27 | elapsed:    0.1s finished\n"
     ]
    },
    {
     "name": "stdout",
     "output_type": "stream",
     "text": [
      "Pass 5/10 for model <class 'sklearn.neighbors.regression.KNeighborsRegressor'>\n",
      "Fitting 3 folds for each of 9 candidates, totalling 27 fits\n"
     ]
    },
    {
     "name": "stderr",
     "output_type": "stream",
     "text": [
      "[Parallel(n_jobs=16)]: Done  24 out of  27 | elapsed:    0.1s remaining:    0.0s\n",
      "[Parallel(n_jobs=16)]: Done  27 out of  27 | elapsed:    0.1s finished\n"
     ]
    },
    {
     "name": "stdout",
     "output_type": "stream",
     "text": [
      "Pass 6/10 for model <class 'sklearn.neighbors.regression.KNeighborsRegressor'>\n",
      "Fitting 3 folds for each of 9 candidates, totalling 27 fits\n"
     ]
    },
    {
     "name": "stderr",
     "output_type": "stream",
     "text": [
      "[Parallel(n_jobs=16)]: Done  24 out of  27 | elapsed:    0.1s remaining:    0.0s\n",
      "[Parallel(n_jobs=16)]: Done  27 out of  27 | elapsed:    0.1s finished\n"
     ]
    },
    {
     "name": "stdout",
     "output_type": "stream",
     "text": [
      "Pass 7/10 for model <class 'sklearn.neighbors.regression.KNeighborsRegressor'>\n",
      "Fitting 3 folds for each of 9 candidates, totalling 27 fits\n"
     ]
    },
    {
     "name": "stderr",
     "output_type": "stream",
     "text": [
      "[Parallel(n_jobs=16)]: Done  24 out of  27 | elapsed:    0.1s remaining:    0.0s\n",
      "[Parallel(n_jobs=16)]: Done  27 out of  27 | elapsed:    0.1s finished\n"
     ]
    },
    {
     "name": "stdout",
     "output_type": "stream",
     "text": [
      "Pass 8/10 for model <class 'sklearn.neighbors.regression.KNeighborsRegressor'>\n",
      "Fitting 3 folds for each of 9 candidates, totalling 27 fits\n"
     ]
    },
    {
     "name": "stderr",
     "output_type": "stream",
     "text": [
      "[Parallel(n_jobs=16)]: Done  24 out of  27 | elapsed:    0.1s remaining:    0.0s\n",
      "[Parallel(n_jobs=16)]: Done  27 out of  27 | elapsed:    0.1s finished\n"
     ]
    },
    {
     "name": "stdout",
     "output_type": "stream",
     "text": [
      "Pass 9/10 for model <class 'sklearn.neighbors.regression.KNeighborsRegressor'>\n",
      "Fitting 3 folds for each of 9 candidates, totalling 27 fits\n"
     ]
    },
    {
     "name": "stderr",
     "output_type": "stream",
     "text": [
      "[Parallel(n_jobs=16)]: Done  24 out of  27 | elapsed:    0.1s remaining:    0.0s\n",
      "[Parallel(n_jobs=16)]: Done  27 out of  27 | elapsed:    0.1s finished\n"
     ]
    },
    {
     "name": "stdout",
     "output_type": "stream",
     "text": [
      "Pass 10/10 for model <class 'sklearn.neighbors.regression.KNeighborsRegressor'>\n",
      "Fitting 3 folds for each of 9 candidates, totalling 27 fits\n"
     ]
    },
    {
     "name": "stderr",
     "output_type": "stream",
     "text": [
      "[Parallel(n_jobs=16)]: Done  24 out of  27 | elapsed:    0.1s remaining:    0.0s\n",
      "[Parallel(n_jobs=16)]: Done  27 out of  27 | elapsed:    0.1s finished\n"
     ]
    },
    {
     "name": "stdout",
     "output_type": "stream",
     "text": [
      "Model <class 'sklearn.neighbors.regression.KNeighborsRegressor'> with hyperparams {'n_neighbors': 7} yielded test error 0.8909413879436343 - overall error 1.3352701937221834\n"
     ]
    },
    {
     "name": "stderr",
     "output_type": "stream",
     "text": [
      "[Parallel(n_jobs=16)]: Done  24 out of  27 | elapsed:    0.1s remaining:    0.0s\n",
      "[Parallel(n_jobs=16)]: Done  27 out of  27 | elapsed:    0.1s finished\n"
     ]
    }
   ],
   "source": [
    "     \n",
    "    \n",
    "evaluate_model(LassoCV, {'eps': [0.001, 0.002, 0.003], \n",
    "                                'n_alphas':[200, 400, 600],\n",
    "                                'tol': [0.001, 0.005, 0.01],\n",
    "                                'max_iter': [4000, 7000]})\n",
    "\n",
    "#evaluate_model(Ridge, {'alpha' : [(0.1, 0.3, 0.7, 1.0, 2.0, 5.0)]})\n",
    "\n",
    "evaluate_model(KNeighborsRegressor, {'n_neighbors' : np.arange(1, 10)})\n",
    "\n"
   ]
  },
  {
   "cell_type": "code",
   "execution_count": null,
   "metadata": {},
   "outputs": [
    {
     "name": "stdout",
     "output_type": "stream",
     "text": [
      "Pass 1/10 for model <class 'sklearn.ensemble.gradient_boosting.GradientBoostingRegressor'>\n",
      "Fitting 3 folds for each of 180 candidates, totalling 540 fits\n"
     ]
    },
    {
     "name": "stderr",
     "output_type": "stream",
     "text": [
      "[Parallel(n_jobs=16)]: Done  18 tasks      | elapsed:    0.2s\n",
      "[Parallel(n_jobs=16)]: Done 540 out of 540 | elapsed:    6.2s finished\n"
     ]
    },
    {
     "name": "stdout",
     "output_type": "stream",
     "text": [
      "Pass 2/10 for model <class 'sklearn.ensemble.gradient_boosting.GradientBoostingRegressor'>\n",
      "Fitting 3 folds for each of 180 candidates, totalling 540 fits\n"
     ]
    },
    {
     "name": "stderr",
     "output_type": "stream",
     "text": [
      "[Parallel(n_jobs=16)]: Done  18 tasks      | elapsed:    0.2s\n"
     ]
    },
    {
     "name": "stdout",
     "output_type": "stream",
     "text": [
      "Pass 3/10 for model <class 'sklearn.ensemble.gradient_boosting.GradientBoostingRegressor'>\n",
      "Fitting 3 folds for each of 180 candidates, totalling 540 fits\n"
     ]
    },
    {
     "name": "stderr",
     "output_type": "stream",
     "text": [
      "[Parallel(n_jobs=16)]: Done 540 out of 540 | elapsed:    6.0s finished\n",
      "[Parallel(n_jobs=16)]: Done  18 tasks      | elapsed:    0.3s\n"
     ]
    },
    {
     "name": "stdout",
     "output_type": "stream",
     "text": [
      "Pass 4/10 for model <class 'sklearn.ensemble.gradient_boosting.GradientBoostingRegressor'>\n",
      "Fitting 3 folds for each of 180 candidates, totalling 540 fits\n"
     ]
    },
    {
     "name": "stderr",
     "output_type": "stream",
     "text": [
      "[Parallel(n_jobs=16)]: Done 540 out of 540 | elapsed:    6.5s finished\n",
      "[Parallel(n_jobs=16)]: Done  18 tasks      | elapsed:    0.2s\n",
      "[Parallel(n_jobs=16)]: Done 540 out of 540 | elapsed:    5.8s finished\n"
     ]
    },
    {
     "name": "stdout",
     "output_type": "stream",
     "text": [
      "Pass 5/10 for model <class 'sklearn.ensemble.gradient_boosting.GradientBoostingRegressor'>\n",
      "Fitting 3 folds for each of 180 candidates, totalling 540 fits\n"
     ]
    },
    {
     "name": "stderr",
     "output_type": "stream",
     "text": [
      "[Parallel(n_jobs=16)]: Done  18 tasks      | elapsed:    0.2s\n"
     ]
    },
    {
     "name": "stdout",
     "output_type": "stream",
     "text": [
      "Pass 6/10 for model <class 'sklearn.ensemble.gradient_boosting.GradientBoostingRegressor'>\n",
      "Fitting 3 folds for each of 180 candidates, totalling 540 fits\n"
     ]
    },
    {
     "name": "stderr",
     "output_type": "stream",
     "text": [
      "[Parallel(n_jobs=16)]: Done 540 out of 540 | elapsed:    6.1s finished\n",
      "[Parallel(n_jobs=16)]: Done  18 tasks      | elapsed:    0.2s\n"
     ]
    },
    {
     "name": "stdout",
     "output_type": "stream",
     "text": [
      "Pass 7/10 for model <class 'sklearn.ensemble.gradient_boosting.GradientBoostingRegressor'>\n",
      "Fitting 3 folds for each of 180 candidates, totalling 540 fits\n"
     ]
    },
    {
     "name": "stderr",
     "output_type": "stream",
     "text": [
      "[Parallel(n_jobs=16)]: Done 540 out of 540 | elapsed:    6.5s finished\n",
      "[Parallel(n_jobs=16)]: Done  18 tasks      | elapsed:    0.2s\n",
      "[Parallel(n_jobs=16)]: Done 540 out of 540 | elapsed:    6.1s finished\n"
     ]
    },
    {
     "name": "stdout",
     "output_type": "stream",
     "text": [
      "Pass 8/10 for model <class 'sklearn.ensemble.gradient_boosting.GradientBoostingRegressor'>\n",
      "Fitting 3 folds for each of 180 candidates, totalling 540 fits\n"
     ]
    },
    {
     "name": "stderr",
     "output_type": "stream",
     "text": [
      "[Parallel(n_jobs=16)]: Done  18 tasks      | elapsed:    0.2s\n"
     ]
    },
    {
     "name": "stdout",
     "output_type": "stream",
     "text": [
      "Pass 9/10 for model <class 'sklearn.ensemble.gradient_boosting.GradientBoostingRegressor'>\n",
      "Fitting 3 folds for each of 180 candidates, totalling 540 fits\n"
     ]
    },
    {
     "name": "stderr",
     "output_type": "stream",
     "text": [
      "[Parallel(n_jobs=16)]: Done 540 out of 540 | elapsed:    6.0s finished\n",
      "[Parallel(n_jobs=16)]: Done  18 tasks      | elapsed:    0.2s\n"
     ]
    },
    {
     "name": "stdout",
     "output_type": "stream",
     "text": [
      "Pass 10/10 for model <class 'sklearn.ensemble.gradient_boosting.GradientBoostingRegressor'>\n",
      "Fitting 3 folds for each of 180 candidates, totalling 540 fits\n"
     ]
    },
    {
     "name": "stderr",
     "output_type": "stream",
     "text": [
      "[Parallel(n_jobs=16)]: Done 540 out of 540 | elapsed:    6.0s finished\n",
      "[Parallel(n_jobs=16)]: Done  18 tasks      | elapsed:    0.2s\n"
     ]
    },
    {
     "name": "stdout",
     "output_type": "stream",
     "text": [
      "Model <class 'sklearn.ensemble.gradient_boosting.GradientBoostingRegressor'> with hyperparams {'learning_rate': 0.02, 'max_depth': 1, 'max_features': 'log2', 'n_estimators': 100} yielded test error 1.0002394671953485 - overall error 0.9273150666345432\n",
      "Pass 1/10 for model <class 'sklearn.tree.tree.DecisionTreeRegressor'>\n",
      "Fitting 3 folds for each of 90 candidates, totalling 270 fits\n"
     ]
    },
    {
     "name": "stderr",
     "output_type": "stream",
     "text": [
      "[Parallel(n_jobs=16)]: Done 540 out of 540 | elapsed:    6.0s finished\n"
     ]
    },
    {
     "name": "stdout",
     "output_type": "stream",
     "text": [
      "Pass 2/10 for model <class 'sklearn.tree.tree.DecisionTreeRegressor'>\n",
      "Fitting 3 folds for each of 90 candidates, totalling 270 fits\n"
     ]
    },
    {
     "name": "stderr",
     "output_type": "stream",
     "text": [
      "[Parallel(n_jobs=16)]: Done 270 out of 270 | elapsed:    0.2s finished\n"
     ]
    },
    {
     "name": "stdout",
     "output_type": "stream",
     "text": [
      "Pass 3/10 for model <class 'sklearn.tree.tree.DecisionTreeRegressor'>\n",
      "Fitting 3 folds for each of 90 candidates, totalling 270 fits\n"
     ]
    },
    {
     "name": "stderr",
     "output_type": "stream",
     "text": [
      "[Parallel(n_jobs=16)]: Done 270 out of 270 | elapsed:    0.2s finished\n"
     ]
    },
    {
     "name": "stdout",
     "output_type": "stream",
     "text": [
      "Pass 4/10 for model <class 'sklearn.tree.tree.DecisionTreeRegressor'>\n",
      "Fitting 3 folds for each of 90 candidates, totalling 270 fits\n"
     ]
    },
    {
     "name": "stderr",
     "output_type": "stream",
     "text": [
      "[Parallel(n_jobs=16)]: Done 270 out of 270 | elapsed:    0.2s finished\n"
     ]
    },
    {
     "name": "stdout",
     "output_type": "stream",
     "text": [
      "Pass 5/10 for model <class 'sklearn.tree.tree.DecisionTreeRegressor'>\n",
      "Fitting 3 folds for each of 90 candidates, totalling 270 fits\n"
     ]
    },
    {
     "name": "stderr",
     "output_type": "stream",
     "text": [
      "[Parallel(n_jobs=16)]: Done 270 out of 270 | elapsed:    0.2s finished\n"
     ]
    },
    {
     "name": "stdout",
     "output_type": "stream",
     "text": [
      "Pass 6/10 for model <class 'sklearn.tree.tree.DecisionTreeRegressor'>\n",
      "Fitting 3 folds for each of 90 candidates, totalling 270 fits\n"
     ]
    },
    {
     "name": "stderr",
     "output_type": "stream",
     "text": [
      "[Parallel(n_jobs=16)]: Done 270 out of 270 | elapsed:    0.2s finished\n"
     ]
    },
    {
     "name": "stdout",
     "output_type": "stream",
     "text": [
      "Pass 7/10 for model <class 'sklearn.tree.tree.DecisionTreeRegressor'>\n",
      "Fitting 3 folds for each of 90 candidates, totalling 270 fits\n"
     ]
    },
    {
     "name": "stderr",
     "output_type": "stream",
     "text": [
      "[Parallel(n_jobs=16)]: Done 270 out of 270 | elapsed:    0.2s finished\n"
     ]
    },
    {
     "name": "stdout",
     "output_type": "stream",
     "text": [
      "Pass 8/10 for model <class 'sklearn.tree.tree.DecisionTreeRegressor'>\n",
      "Fitting 3 folds for each of 90 candidates, totalling 270 fits\n"
     ]
    },
    {
     "name": "stderr",
     "output_type": "stream",
     "text": [
      "[Parallel(n_jobs=16)]: Done 270 out of 270 | elapsed:    0.2s finished\n"
     ]
    },
    {
     "name": "stdout",
     "output_type": "stream",
     "text": [
      "Pass 9/10 for model <class 'sklearn.tree.tree.DecisionTreeRegressor'>\n",
      "Fitting 3 folds for each of 90 candidates, totalling 270 fits\n"
     ]
    },
    {
     "name": "stderr",
     "output_type": "stream",
     "text": [
      "[Parallel(n_jobs=16)]: Done 270 out of 270 | elapsed:    0.2s finished\n"
     ]
    },
    {
     "name": "stdout",
     "output_type": "stream",
     "text": [
      "Pass 10/10 for model <class 'sklearn.tree.tree.DecisionTreeRegressor'>\n",
      "Fitting 3 folds for each of 90 candidates, totalling 270 fits\n"
     ]
    },
    {
     "name": "stderr",
     "output_type": "stream",
     "text": [
      "[Parallel(n_jobs=16)]: Done 270 out of 270 | elapsed:    0.2s finished\n"
     ]
    },
    {
     "name": "stdout",
     "output_type": "stream",
     "text": [
      "Model <class 'sklearn.tree.tree.DecisionTreeRegressor'> with hyperparams {'criterion': 'mae', 'max_depth': 2, 'max_features': 'sqrt', 'splitter': 'best'} yielded test error 1.4901349356289784 - overall error 1.0353395284896112\n",
      "Pass 1/10 for model <class 'sklearn.ensemble.forest.RandomForestRegressor'>\n",
      "Fitting 3 folds for each of 180 candidates, totalling 540 fits\n"
     ]
    },
    {
     "name": "stderr",
     "output_type": "stream",
     "text": [
      "[Parallel(n_jobs=16)]: Done 270 out of 270 | elapsed:    0.2s finished\n",
      "[Parallel(n_jobs=16)]: Done  18 tasks      | elapsed:    1.2s\n",
      "[Parallel(n_jobs=16)]: Done 168 tasks      | elapsed:    8.9s\n",
      "[Parallel(n_jobs=16)]: Done 418 tasks      | elapsed:   21.3s\n",
      "[Parallel(n_jobs=16)]: Done 540 out of 540 | elapsed:   27.9s finished\n"
     ]
    },
    {
     "name": "stdout",
     "output_type": "stream",
     "text": [
      "Pass 2/10 for model <class 'sklearn.ensemble.forest.RandomForestRegressor'>\n",
      "Fitting 3 folds for each of 180 candidates, totalling 540 fits\n"
     ]
    },
    {
     "name": "stderr",
     "output_type": "stream",
     "text": [
      "[Parallel(n_jobs=16)]: Done  18 tasks      | elapsed:    1.3s\n",
      "[Parallel(n_jobs=16)]: Done 168 tasks      | elapsed:    8.9s\n",
      "[Parallel(n_jobs=16)]: Done 418 tasks      | elapsed:   21.3s\n",
      "[Parallel(n_jobs=16)]: Done 540 out of 540 | elapsed:   27.9s finished\n"
     ]
    },
    {
     "name": "stdout",
     "output_type": "stream",
     "text": [
      "Pass 3/10 for model <class 'sklearn.ensemble.forest.RandomForestRegressor'>\n",
      "Fitting 3 folds for each of 180 candidates, totalling 540 fits\n"
     ]
    },
    {
     "name": "stderr",
     "output_type": "stream",
     "text": [
      "[Parallel(n_jobs=16)]: Done  18 tasks      | elapsed:    1.3s\n",
      "[Parallel(n_jobs=16)]: Done 168 tasks      | elapsed:    8.9s\n",
      "[Parallel(n_jobs=16)]: Done 418 tasks      | elapsed:   21.3s\n",
      "[Parallel(n_jobs=16)]: Done 540 out of 540 | elapsed:   28.0s finished\n"
     ]
    },
    {
     "name": "stdout",
     "output_type": "stream",
     "text": [
      "Pass 4/10 for model <class 'sklearn.ensemble.forest.RandomForestRegressor'>\n",
      "Fitting 3 folds for each of 180 candidates, totalling 540 fits\n"
     ]
    },
    {
     "name": "stderr",
     "output_type": "stream",
     "text": [
      "[Parallel(n_jobs=16)]: Done  18 tasks      | elapsed:    1.3s\n",
      "[Parallel(n_jobs=16)]: Done 168 tasks      | elapsed:    8.9s\n",
      "[Parallel(n_jobs=16)]: Done 418 tasks      | elapsed:   21.3s\n",
      "[Parallel(n_jobs=16)]: Done 540 out of 540 | elapsed:   27.7s finished\n"
     ]
    },
    {
     "name": "stdout",
     "output_type": "stream",
     "text": [
      "Pass 5/10 for model <class 'sklearn.ensemble.forest.RandomForestRegressor'>\n",
      "Fitting 3 folds for each of 180 candidates, totalling 540 fits\n"
     ]
    },
    {
     "name": "stderr",
     "output_type": "stream",
     "text": [
      "[Parallel(n_jobs=16)]: Done  18 tasks      | elapsed:    1.3s\n",
      "[Parallel(n_jobs=16)]: Done 168 tasks      | elapsed:    8.9s\n",
      "[Parallel(n_jobs=16)]: Done 418 tasks      | elapsed:   21.3s\n",
      "[Parallel(n_jobs=16)]: Done 540 out of 540 | elapsed:   28.2s finished\n"
     ]
    },
    {
     "name": "stdout",
     "output_type": "stream",
     "text": [
      "Pass 6/10 for model <class 'sklearn.ensemble.forest.RandomForestRegressor'>\n",
      "Fitting 3 folds for each of 180 candidates, totalling 540 fits\n"
     ]
    },
    {
     "name": "stderr",
     "output_type": "stream",
     "text": [
      "[Parallel(n_jobs=16)]: Done  18 tasks      | elapsed:    1.3s\n",
      "[Parallel(n_jobs=16)]: Done 168 tasks      | elapsed:    8.9s\n",
      "[Parallel(n_jobs=16)]: Done 418 tasks      | elapsed:   21.3s\n",
      "[Parallel(n_jobs=16)]: Done 540 out of 540 | elapsed:   28.0s finished\n"
     ]
    },
    {
     "name": "stdout",
     "output_type": "stream",
     "text": [
      "Pass 7/10 for model <class 'sklearn.ensemble.forest.RandomForestRegressor'>\n",
      "Fitting 3 folds for each of 180 candidates, totalling 540 fits\n"
     ]
    },
    {
     "name": "stderr",
     "output_type": "stream",
     "text": [
      "[Parallel(n_jobs=16)]: Done  18 tasks      | elapsed:    1.3s\n",
      "[Parallel(n_jobs=16)]: Done 168 tasks      | elapsed:    8.9s\n",
      "[Parallel(n_jobs=16)]: Done 418 tasks      | elapsed:   21.3s\n",
      "[Parallel(n_jobs=16)]: Done 540 out of 540 | elapsed:   28.1s finished\n"
     ]
    },
    {
     "name": "stdout",
     "output_type": "stream",
     "text": [
      "Pass 8/10 for model <class 'sklearn.ensemble.forest.RandomForestRegressor'>\n",
      "Fitting 3 folds for each of 180 candidates, totalling 540 fits\n"
     ]
    },
    {
     "name": "stderr",
     "output_type": "stream",
     "text": [
      "[Parallel(n_jobs=16)]: Done  18 tasks      | elapsed:    1.3s\n",
      "[Parallel(n_jobs=16)]: Done 168 tasks      | elapsed:    8.8s\n",
      "[Parallel(n_jobs=16)]: Done 418 tasks      | elapsed:   21.3s\n",
      "[Parallel(n_jobs=16)]: Done 540 out of 540 | elapsed:   27.8s finished\n"
     ]
    },
    {
     "name": "stdout",
     "output_type": "stream",
     "text": [
      "Pass 9/10 for model <class 'sklearn.ensemble.forest.RandomForestRegressor'>\n",
      "Fitting 3 folds for each of 180 candidates, totalling 540 fits\n"
     ]
    },
    {
     "name": "stderr",
     "output_type": "stream",
     "text": [
      "[Parallel(n_jobs=16)]: Done  18 tasks      | elapsed:    1.3s\n",
      "[Parallel(n_jobs=16)]: Done 168 tasks      | elapsed:    8.9s\n",
      "[Parallel(n_jobs=16)]: Done 418 tasks      | elapsed:   21.3s\n",
      "[Parallel(n_jobs=16)]: Done 540 out of 540 | elapsed:   28.0s finished\n"
     ]
    },
    {
     "name": "stdout",
     "output_type": "stream",
     "text": [
      "Pass 10/10 for model <class 'sklearn.ensemble.forest.RandomForestRegressor'>\n",
      "Fitting 3 folds for each of 180 candidates, totalling 540 fits\n"
     ]
    },
    {
     "name": "stderr",
     "output_type": "stream",
     "text": [
      "[Parallel(n_jobs=16)]: Done  18 tasks      | elapsed:    1.3s\n",
      "[Parallel(n_jobs=16)]: Done 168 tasks      | elapsed:    8.8s\n",
      "[Parallel(n_jobs=16)]: Done 418 tasks      | elapsed:   21.3s\n",
      "[Parallel(n_jobs=16)]: Done 540 out of 540 | elapsed:   27.9s finished\n"
     ]
    },
    {
     "name": "stdout",
     "output_type": "stream",
     "text": [
      "Model <class 'sklearn.ensemble.forest.RandomForestRegressor'> with hyperparams {'max_depth': 2, 'max_features': 'log2', 'min_samples_split': 2, 'n_estimators': 100} yielded test error 0.7155784118963757 - overall error 0.8293184113474716\n",
      "Pass 1/10 for model <class 'sklearn.neural_network.multilayer_perceptron.MLPRegressor'>\n",
      "Fitting 3 folds for each of 4 candidates, totalling 12 fits\n"
     ]
    },
    {
     "name": "stderr",
     "output_type": "stream",
     "text": [
      "[Parallel(n_jobs=16)]: Done   7 out of  12 | elapsed:    0.3s remaining:    0.2s\n",
      "[Parallel(n_jobs=16)]: Done  12 out of  12 | elapsed:    1.8s finished\n"
     ]
    },
    {
     "name": "stdout",
     "output_type": "stream",
     "text": [
      "Pass 2/10 for model <class 'sklearn.neural_network.multilayer_perceptron.MLPRegressor'>\n",
      "Fitting 3 folds for each of 4 candidates, totalling 12 fits\n"
     ]
    },
    {
     "name": "stderr",
     "output_type": "stream",
     "text": [
      "[Parallel(n_jobs=16)]: Done   7 out of  12 | elapsed:    1.4s remaining:    1.0s\n",
      "[Parallel(n_jobs=16)]: Done  12 out of  12 | elapsed:    3.8s finished\n"
     ]
    },
    {
     "name": "stdout",
     "output_type": "stream",
     "text": [
      "Pass 3/10 for model <class 'sklearn.neural_network.multilayer_perceptron.MLPRegressor'>\n",
      "Fitting 3 folds for each of 4 candidates, totalling 12 fits\n"
     ]
    },
    {
     "name": "stderr",
     "output_type": "stream",
     "text": [
      "[Parallel(n_jobs=16)]: Done   7 out of  12 | elapsed:    1.1s remaining:    0.8s\n",
      "[Parallel(n_jobs=16)]: Done  12 out of  12 | elapsed:    4.1s finished\n"
     ]
    },
    {
     "name": "stdout",
     "output_type": "stream",
     "text": [
      "Pass 4/10 for model <class 'sklearn.neural_network.multilayer_perceptron.MLPRegressor'>\n",
      "Fitting 3 folds for each of 4 candidates, totalling 12 fits\n"
     ]
    },
    {
     "name": "stderr",
     "output_type": "stream",
     "text": [
      "[Parallel(n_jobs=16)]: Done   7 out of  12 | elapsed:    0.6s remaining:    0.4s\n",
      "[Parallel(n_jobs=16)]: Done  12 out of  12 | elapsed:    4.5s finished\n"
     ]
    },
    {
     "name": "stdout",
     "output_type": "stream",
     "text": [
      "Pass 5/10 for model <class 'sklearn.neural_network.multilayer_perceptron.MLPRegressor'>\n",
      "Fitting 3 folds for each of 4 candidates, totalling 12 fits\n"
     ]
    },
    {
     "name": "stderr",
     "output_type": "stream",
     "text": [
      "[Parallel(n_jobs=16)]: Done   7 out of  12 | elapsed:    0.9s remaining:    0.6s\n",
      "[Parallel(n_jobs=16)]: Done  12 out of  12 | elapsed:    3.4s finished\n"
     ]
    },
    {
     "name": "stdout",
     "output_type": "stream",
     "text": [
      "Pass 6/10 for model <class 'sklearn.neural_network.multilayer_perceptron.MLPRegressor'>\n",
      "Fitting 3 folds for each of 4 candidates, totalling 12 fits\n"
     ]
    },
    {
     "name": "stderr",
     "output_type": "stream",
     "text": [
      "[Parallel(n_jobs=16)]: Done   7 out of  12 | elapsed:    0.5s remaining:    0.3s\n",
      "[Parallel(n_jobs=16)]: Done  12 out of  12 | elapsed:    2.8s finished\n"
     ]
    },
    {
     "name": "stdout",
     "output_type": "stream",
     "text": [
      "Pass 7/10 for model <class 'sklearn.neural_network.multilayer_perceptron.MLPRegressor'>\n",
      "Fitting 3 folds for each of 4 candidates, totalling 12 fits\n"
     ]
    },
    {
     "name": "stderr",
     "output_type": "stream",
     "text": [
      "[Parallel(n_jobs=16)]: Done   7 out of  12 | elapsed:    0.4s remaining:    0.3s\n",
      "[Parallel(n_jobs=16)]: Done  12 out of  12 | elapsed:    3.3s finished\n"
     ]
    },
    {
     "name": "stdout",
     "output_type": "stream",
     "text": [
      "Pass 8/10 for model <class 'sklearn.neural_network.multilayer_perceptron.MLPRegressor'>\n",
      "Fitting 3 folds for each of 4 candidates, totalling 12 fits\n"
     ]
    },
    {
     "name": "stderr",
     "output_type": "stream",
     "text": [
      "[Parallel(n_jobs=16)]: Done   7 out of  12 | elapsed:    1.3s remaining:    0.9s\n",
      "[Parallel(n_jobs=16)]: Done  12 out of  12 | elapsed:    3.5s finished\n"
     ]
    },
    {
     "name": "stdout",
     "output_type": "stream",
     "text": [
      "Pass 9/10 for model <class 'sklearn.neural_network.multilayer_perceptron.MLPRegressor'>\n",
      "Fitting 3 folds for each of 4 candidates, totalling 12 fits\n"
     ]
    },
    {
     "name": "stderr",
     "output_type": "stream",
     "text": [
      "[Parallel(n_jobs=16)]: Done   7 out of  12 | elapsed:    1.1s remaining:    0.8s\n",
      "[Parallel(n_jobs=16)]: Done  12 out of  12 | elapsed:    3.4s finished\n"
     ]
    },
    {
     "name": "stdout",
     "output_type": "stream",
     "text": [
      "Pass 10/10 for model <class 'sklearn.neural_network.multilayer_perceptron.MLPRegressor'>\n",
      "Fitting 3 folds for each of 4 candidates, totalling 12 fits\n"
     ]
    },
    {
     "name": "stderr",
     "output_type": "stream",
     "text": [
      "[Parallel(n_jobs=16)]: Done   7 out of  12 | elapsed:    0.5s remaining:    0.3s\n",
      "[Parallel(n_jobs=16)]: Done  12 out of  12 | elapsed:    2.5s finished\n"
     ]
    },
    {
     "name": "stdout",
     "output_type": "stream",
     "text": [
      "Model <class 'sklearn.neural_network.multilayer_perceptron.MLPRegressor'> with hyperparams {'hidden_layer_sizes': (100, 100, 100, 100, 100, 100, 100, 100, 100, 100, 100, 100, 100, 100, 100, 100, 100, 100, 100, 100, 100, 100, 100, 100, 100, 100, 100, 100, 100, 100, 100, 100, 100, 100, 100, 100, 100, 100, 100, 100, 100, 100, 100, 100, 100, 100, 100, 100, 100, 100, 100, 100, 100, 100, 100, 100, 100, 100, 100, 100, 100, 100, 100, 100, 100, 100, 100, 100, 100, 100, 100, 100, 100, 100, 100, 100, 100, 100, 100, 100, 100, 100, 100, 100, 100, 100, 100, 100, 100, 100, 100, 100, 100, 100, 100, 100, 100, 100, 100, 100)} yielded test error 1.2899468478922822 - overall error 1.5390458738020465\n",
      "Pass 1/10 for model <class 'sklearn.svm.classes.SVR'>\n",
      "Fitting 3 folds for each of 2 candidates, totalling 6 fits\n"
     ]
    },
    {
     "name": "stderr",
     "output_type": "stream",
     "text": [
      "[Parallel(n_jobs=16)]: Done   3 out of   6 | elapsed:    5.1s remaining:    5.1s\n",
      "[Parallel(n_jobs=16)]: Done   6 out of   6 | elapsed:   18.7s finished\n"
     ]
    }
   ],
   "source": [
    "\n",
    "evaluate_model(GradientBoostingRegressor, {\n",
    "                                'learning_rate': [0.1, 0.05, 0.02], \n",
    "                                'n_estimators': [100, 200, 400, 800],\n",
    "                                'max_depth': [1, 2, 3, 4, 5],\n",
    "                                'max_features' : ['auto', 'sqrt', 'log2']})\n",
    "\n",
    "evaluate_model(DecisionTreeRegressor, {'splitter': ['best', 'random'], \n",
    "                                'criterion': ['mse', 'friedman_mse', 'mae'],\n",
    "                                'max_depth': [None, 2, 3, 4, 5],\n",
    "                                'max_features' : ['auto', 'sqrt', 'log2']})\n",
    "\n",
    "evaluate_model(RandomForestRegressor, {'n_estimators': [100, 200, 400, 800], \n",
    "                                'max_depth': [None, 2, 3, 4, 5],\n",
    "                            'min_samples_split': [2, 3, 4],\n",
    "                                'max_features' : ['auto', 'sqrt', 'log2']})\n",
    "\n",
    "evaluate_model(MLPRegressor, {'hidden_layer_sizes': [(100,) * 3, (100,) * 10, (100,) * 30, (100,) * 100]})\n",
    "\n",
    "\n"
   ]
  },
  {
   "cell_type": "code",
   "execution_count": 13,
   "metadata": {},
   "outputs": [
    {
     "name": "stdout",
     "output_type": "stream",
     "text": [
      "Pass 1/10 for model <class 'sklearn.svm.classes.LinearSVR'>\n",
      "Fitting 3 folds for each of 80 candidates, totalling 240 fits\n"
     ]
    },
    {
     "name": "stderr",
     "output_type": "stream",
     "text": [
      "[Parallel(n_jobs=16)]: Done  18 tasks      | elapsed:    0.2s\n"
     ]
    },
    {
     "name": "stdout",
     "output_type": "stream",
     "text": [
      "Pass 2/10 for model <class 'sklearn.svm.classes.LinearSVR'>\n",
      "Fitting 3 folds for each of 80 candidates, totalling 240 fits\n"
     ]
    },
    {
     "name": "stderr",
     "output_type": "stream",
     "text": [
      "[Parallel(n_jobs=16)]: Done 240 out of 240 | elapsed:    2.1s finished\n",
      "[Parallel(n_jobs=16)]: Done  18 tasks      | elapsed:    0.1s\n",
      "[Parallel(n_jobs=16)]: Done 240 out of 240 | elapsed:    1.8s finished\n"
     ]
    },
    {
     "name": "stdout",
     "output_type": "stream",
     "text": [
      "Pass 3/10 for model <class 'sklearn.svm.classes.LinearSVR'>\n",
      "Fitting 3 folds for each of 80 candidates, totalling 240 fits\n"
     ]
    },
    {
     "name": "stderr",
     "output_type": "stream",
     "text": [
      "[Parallel(n_jobs=16)]: Done  18 tasks      | elapsed:    0.1s\n"
     ]
    },
    {
     "name": "stdout",
     "output_type": "stream",
     "text": [
      "Pass 4/10 for model <class 'sklearn.svm.classes.LinearSVR'>\n",
      "Fitting 3 folds for each of 80 candidates, totalling 240 fits\n"
     ]
    },
    {
     "name": "stderr",
     "output_type": "stream",
     "text": [
      "[Parallel(n_jobs=16)]: Done 240 out of 240 | elapsed:    2.2s finished\n",
      "[Parallel(n_jobs=16)]: Done  18 tasks      | elapsed:    0.1s\n",
      "[Parallel(n_jobs=16)]: Done 240 out of 240 | elapsed:    2.2s finished\n"
     ]
    },
    {
     "name": "stdout",
     "output_type": "stream",
     "text": [
      "Pass 5/10 for model <class 'sklearn.svm.classes.LinearSVR'>\n",
      "Fitting 3 folds for each of 80 candidates, totalling 240 fits\n"
     ]
    },
    {
     "name": "stderr",
     "output_type": "stream",
     "text": [
      "[Parallel(n_jobs=16)]: Done  18 tasks      | elapsed:    0.1s\n"
     ]
    },
    {
     "name": "stdout",
     "output_type": "stream",
     "text": [
      "Pass 6/10 for model <class 'sklearn.svm.classes.LinearSVR'>\n",
      "Fitting 3 folds for each of 80 candidates, totalling 240 fits\n"
     ]
    },
    {
     "name": "stderr",
     "output_type": "stream",
     "text": [
      "[Parallel(n_jobs=16)]: Done 240 out of 240 | elapsed:    2.1s finished\n",
      "[Parallel(n_jobs=16)]: Done  18 tasks      | elapsed:    0.1s\n",
      "[Parallel(n_jobs=16)]: Done 240 out of 240 | elapsed:    2.2s finished\n"
     ]
    },
    {
     "name": "stdout",
     "output_type": "stream",
     "text": [
      "Pass 7/10 for model <class 'sklearn.svm.classes.LinearSVR'>\n",
      "Fitting 3 folds for each of 80 candidates, totalling 240 fits\n"
     ]
    },
    {
     "name": "stderr",
     "output_type": "stream",
     "text": [
      "[Parallel(n_jobs=16)]: Done  18 tasks      | elapsed:    0.1s\n"
     ]
    },
    {
     "name": "stdout",
     "output_type": "stream",
     "text": [
      "Pass 8/10 for model <class 'sklearn.svm.classes.LinearSVR'>\n",
      "Fitting 3 folds for each of 80 candidates, totalling 240 fits\n"
     ]
    },
    {
     "name": "stderr",
     "output_type": "stream",
     "text": [
      "[Parallel(n_jobs=16)]: Done 240 out of 240 | elapsed:    2.4s finished\n",
      "[Parallel(n_jobs=16)]: Done  18 tasks      | elapsed:    0.1s\n"
     ]
    },
    {
     "name": "stdout",
     "output_type": "stream",
     "text": [
      "Pass 9/10 for model <class 'sklearn.svm.classes.LinearSVR'>\n",
      "Fitting 3 folds for each of 80 candidates, totalling 240 fits\n"
     ]
    },
    {
     "name": "stderr",
     "output_type": "stream",
     "text": [
      "[Parallel(n_jobs=16)]: Done 240 out of 240 | elapsed:    2.2s finished\n",
      "[Parallel(n_jobs=16)]: Done  18 tasks      | elapsed:    0.1s\n"
     ]
    },
    {
     "name": "stdout",
     "output_type": "stream",
     "text": [
      "Pass 10/10 for model <class 'sklearn.svm.classes.LinearSVR'>\n",
      "Fitting 3 folds for each of 80 candidates, totalling 240 fits\n"
     ]
    },
    {
     "name": "stderr",
     "output_type": "stream",
     "text": [
      "[Parallel(n_jobs=16)]: Done 240 out of 240 | elapsed:    2.0s finished\n",
      "[Parallel(n_jobs=16)]: Done  18 tasks      | elapsed:    0.1s\n"
     ]
    },
    {
     "name": "stdout",
     "output_type": "stream",
     "text": [
      "Model <class 'sklearn.svm.classes.LinearSVR'> with hyperparams {'C': 1, 'max_iter': 4000, 'tol': 1e-07} yielded test error 1.3201363665805965 - overall error 1.5351629003173854\n"
     ]
    },
    {
     "name": "stderr",
     "output_type": "stream",
     "text": [
      "[Parallel(n_jobs=16)]: Done 240 out of 240 | elapsed:    2.0s finished\n"
     ]
    }
   ],
   "source": [
    "evaluate_model(LinearSVR, {'tol': [1e-4, 1e-5, 1e-6, 1e-7],\n",
    "                          'C' : [0.5, 1, 3, 5, 10],\n",
    "                          'max_iter': [1000, 2000, 4000, 8000]}, passes=10)"
   ]
  },
  {
   "cell_type": "code",
   "execution_count": null,
   "metadata": {},
   "outputs": [],
   "source": []
  }
 ],
 "metadata": {
  "kernelspec": {
   "display_name": "Python 3",
   "language": "python",
   "name": "python3"
  },
  "language_info": {
   "codemirror_mode": {
    "name": "ipython",
    "version": 3
   },
   "file_extension": ".py",
   "mimetype": "text/x-python",
   "name": "python",
   "nbconvert_exporter": "python",
   "pygments_lexer": "ipython3",
   "version": "3.6.6"
  }
 },
 "nbformat": 4,
 "nbformat_minor": 2
}
